{
 "cells": [
  {
   "cell_type": "markdown",
   "metadata": {},
   "source": [
    "# Classmethods and Staticmethods"
   ]
  },
  {
   "cell_type": "markdown",
   "metadata": {},
   "source": [
    "## Class Methods"
   ]
  },
  {
   "cell_type": "markdown",
   "metadata": {},
   "source": [
    "For the classmethods we need to add decoratore\n",
    "@classmethod just above the methods then in those methods insted of self the class object will be taken "
   ]
  },
  {
   "cell_type": "code",
   "execution_count": 23,
   "metadata": {},
   "outputs": [
    {
     "name": "stdout",
     "output_type": "stream",
     "text": [
      "0.1\n",
      "0.4\n",
      "0.4\n",
      "0.2\n",
      "0.2\n",
      "0.2\n"
     ]
    }
   ],
   "source": [
    "class Employee:\n",
    "    hike_percent = .10\n",
    "    no_of_employees = 0\n",
    "    def __init__(self, first, last, pay):\n",
    "        self.first = first\n",
    "        self.last  = last\n",
    "        self.pay   = pay\n",
    "        Employee.no_of_employees += 1\n",
    "    def fullname(self):\n",
    "        return '{} {}'.format(self.first, self.last)\n",
    "    def hike_the_pay(self):\n",
    "        self.pay = self.pay*(1+self.hike_percent)\n",
    "    @classmethod\n",
    "    def set_rais_amt(cls, amount):\n",
    "        cls.hike_percent = amount\n",
    "        \n",
    "emp_1 = Employee('Melwin', 'Varghese',900000)\n",
    "emp_2 = Employee('Alwin', 'Varghese', 1000000)\n",
    "print(Employee.hike_percent)\n",
    "emp_1.set_rais_amt(.30)\n",
    "emp_2.set_rais_amt(.40)\n",
    "print(emp_1.hike_percent) \n",
    "print(emp_2.hike_percent)\n",
    "Employee.set_rais_amt(.20)\n",
    "print(Employee.hike_percent)\n",
    "print(emp_1.hike_percent) \n",
    "print(emp_2.hike_percent)"
   ]
  },
  {
   "cell_type": "markdown",
   "metadata": {},
   "source": [
    "whith this we can create alternate constructor"
   ]
  },
  {
   "cell_type": "code",
   "execution_count": 26,
   "metadata": {},
   "outputs": [
    {
     "name": "stdout",
     "output_type": "stream",
     "text": [
      "{'first': 'Melwin', 'last': 'Varghese', 'pay': '900000'}\n",
      "{'first': 'Alwin', 'last': 'Varghese', 'pay': '1000000'}\n"
     ]
    }
   ],
   "source": [
    "class Employee:\n",
    "    hike_percent = .10\n",
    "    no_of_employees = 0\n",
    "    def __init__(self, first, last, pay):\n",
    "        self.first = first\n",
    "        self.last  = last\n",
    "        self.pay   = pay\n",
    "        Employee.no_of_employees += 1\n",
    "    def fullname(self):\n",
    "        return '{} {}'.format(self.first, self.last)\n",
    "    def hike_the_pay(self):\n",
    "        self.pay = self.pay*(1+self.hike_percent)\n",
    "    @classmethod\n",
    "    def set_rais_amt(cls, amount):\n",
    "        cls.hike_percent = amount\n",
    "    @classmethod\n",
    "    def from_string(cls, emp_str):\n",
    "        first, last, pay = emp_str.split('-')\n",
    "        return cls(first, last, pay)\n",
    "emp_1 = Employee.from_string('Melwin-Varghese-900000')\n",
    "emp_2 = Employee.from_string('Alwin-Varghese-1000000') \n",
    "print(emp_1.__dict__)\n",
    "print(emp_2.__dict__)"
   ]
  },
  {
   "cell_type": "markdown",
   "metadata": {},
   "source": [
    "## Static Method"
   ]
  },
  {
   "cell_type": "markdown",
   "metadata": {},
   "source": [
    "For the static method its similer to the class method the difference is the decorator name will be @staticmethod and we will not be passing self or class object only the paramete that needed to pass will be there"
   ]
  },
  {
   "cell_type": "code",
   "execution_count": 30,
   "metadata": {},
   "outputs": [
    {
     "name": "stdout",
     "output_type": "stream",
     "text": [
      "True\n"
     ]
    }
   ],
   "source": [
    "class Employee:\n",
    "    hike_percent = .10\n",
    "    no_of_employees = 0\n",
    "    def __init__(self, first, last, pay):\n",
    "        self.first = first\n",
    "        self.last  = last\n",
    "        self.pay   = pay\n",
    "        Employee.no_of_employees += 1\n",
    "    def fullname(self):\n",
    "        return '{} {}'.format(self.first, self.last)\n",
    "    def hike_the_pay(self):\n",
    "        self.pay = self.pay*(1+self.hike_percent)\n",
    "    @classmethod\n",
    "    def set_rais_amt(cls, amount):\n",
    "        cls.hike_percent = amount\n",
    "    @classmethod\n",
    "    def from_string(cls, emp_str):\n",
    "        first, last, pay = emp_str.split('-')\n",
    "        return cls(first, last, pay)\n",
    "    @staticmethod\n",
    "    def is_workday(day):\n",
    "        if day.weekday() == 5 or day.weekday() == 6:\n",
    "            return False\n",
    "        return True\n",
    "    \n",
    "import datetime\n",
    "my_data = datetime.date(2016, 7, 11)\n",
    "print(Employee.is_workday(my_data))"
   ]
  },
  {
   "cell_type": "code",
   "execution_count": null,
   "metadata": {},
   "outputs": [],
   "source": []
  }
 ],
 "metadata": {
  "kernelspec": {
   "display_name": "Python 3",
   "language": "python",
   "name": "python3"
  },
  "language_info": {
   "codemirror_mode": {
    "name": "ipython",
    "version": 3
   },
   "file_extension": ".py",
   "mimetype": "text/x-python",
   "name": "python",
   "nbconvert_exporter": "python",
   "pygments_lexer": "ipython3",
   "version": "3.8.3"
  }
 },
 "nbformat": 4,
 "nbformat_minor": 2
}
