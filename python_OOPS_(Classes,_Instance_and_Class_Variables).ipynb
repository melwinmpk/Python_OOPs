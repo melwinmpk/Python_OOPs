{
 "cells": [
  {
   "cell_type": "markdown",
   "metadata": {},
   "source": [
    "# Python OOPs Introduction"
   ]
  },
  {
   "cell_type": "markdown",
   "metadata": {},
   "source": [
    "## Class Creation"
   ]
  },
  {
   "cell_type": "code",
   "execution_count": 1,
   "metadata": {},
   "outputs": [],
   "source": [
    "class Employee:\n",
    "    pass"
   ]
  },
  {
   "cell_type": "markdown",
   "metadata": {},
   "source": [
    "## Creating a instance of a class"
   ]
  },
  {
   "cell_type": "code",
   "execution_count": 3,
   "metadata": {},
   "outputs": [
    {
     "name": "stdout",
     "output_type": "stream",
     "text": [
      "<__main__.Employee object at 0x0000026C2D18A888>\n",
      "<__main__.Employee object at 0x0000026C2D18A848>\n"
     ]
    }
   ],
   "source": [
    "emp_1 = Employee()\n",
    "emp_2 = Employee()\n",
    "print(emp_1)\n",
    "print(emp_2)"
   ]
  },
  {
   "cell_type": "markdown",
   "metadata": {},
   "source": [
    "In Python we can create the variables to the respective instances  example any way this is not advisiable to create variables like this"
   ]
  },
  {
   "cell_type": "code",
   "execution_count": 6,
   "metadata": {},
   "outputs": [
    {
     "name": "stdout",
     "output_type": "stream",
     "text": [
      "{'first': 'Corey', 'last': 'Schafer', 'email': 'Corey.Schafer@company.com', 'pay': 50000}\n"
     ]
    }
   ],
   "source": [
    "emp_1 = Employee()\n",
    "emp_1.first = 'Corey'\n",
    "emp_1.last = 'Schafer'\n",
    "emp_1.email = 'Corey.Schafer@company.com'\n",
    "emp_1.pay = 50000  \n",
    "print(emp_1.__dict__)"
   ]
  },
  {
   "cell_type": "markdown",
   "metadata": {},
   "source": [
    "We need to createthe variables in the class itself"
   ]
  },
  {
   "cell_type": "code",
   "execution_count": 7,
   "metadata": {
    "scrolled": true
   },
   "outputs": [
    {
     "name": "stdout",
     "output_type": "stream",
     "text": [
      "{'first': 'Melwin', 'last': 'Varghese', 'pay': 900000}\n"
     ]
    }
   ],
   "source": [
    "class Employee:\n",
    "    def __init__(self, first, last, pay):\n",
    "        self.first = first\n",
    "        self.last  = last\n",
    "        self.pay   = pay\n",
    "\n",
    "emp_1 = Employee('Melwin', 'Varghese', 900000)\n",
    "print(emp_1.__dict__)"
   ]
  },
  {
   "cell_type": "markdown",
   "metadata": {},
   "source": [
    "Or Another Way is by Class Variables"
   ]
  },
  {
   "cell_type": "code",
   "execution_count": 19,
   "metadata": {},
   "outputs": [
    {
     "name": "stdout",
     "output_type": "stream",
     "text": [
      "{'first': 'Melwin', 'last': 'Varghese', 'pay': 900000}\n"
     ]
    }
   ],
   "source": [
    "class Employee:\n",
    "    first = '' # these are class variable \n",
    "    last  = ''\n",
    "    pay   = 0\n",
    "    def __init__(self, first, last, pay):\n",
    "        self.first = first\n",
    "        self.last  = last\n",
    "        self.pay   = pay \n",
    "\n",
    "emp_1 = Employee('Melwin', 'Varghese', 900000)\n",
    "print(emp_1.__dict__)"
   ]
  },
  {
   "cell_type": "markdown",
   "metadata": {},
   "source": [
    "## Methods in the class"
   ]
  },
  {
   "cell_type": "code",
   "execution_count": 10,
   "metadata": {},
   "outputs": [
    {
     "name": "stdout",
     "output_type": "stream",
     "text": [
      "{'first': 'Melwin', 'last': 'Varghese', 'pay': 900000}\n",
      "Melwin Varghese\n",
      "Melwin Varghese\n"
     ]
    }
   ],
   "source": [
    "class Employee:\n",
    "    def __init__(self, first, last, pay):\n",
    "        self.first = first\n",
    "        self.last  = last\n",
    "        self.pay   = pay\n",
    "    def fullname(self):\n",
    "        return '{} {}'.format(self.first, self.last)\n",
    "emp_1 = Employee('Melwin', 'Varghese', 900000)\n",
    "print(emp_1.__dict__)\n",
    "print(emp_1.fullname())\n",
    "print(Employee.fullname(emp_1)) #both are same"
   ]
  },
  {
   "cell_type": "markdown",
   "metadata": {},
   "source": [
    "## Class Variables \n",
    "### Accessing the class variables there are two ways \n"
   ]
  },
  {
   "cell_type": "markdown",
   "metadata": {},
   "source": [
    " #### 1) Directly formt the Class name we can access/modify and overide the value for entire instances "
   ]
  },
  {
   "cell_type": "code",
   "execution_count": 3,
   "metadata": {},
   "outputs": [
    {
     "name": "stdout",
     "output_type": "stream",
     "text": [
      "{'__module__': '__main__', 'hike_percent': 0.1, '__init__': <function Employee.__init__ at 0x00000211DC452C10>, 'fullname': <function Employee.fullname at 0x00000211DC452F70>, 'hike_the_pay': <function Employee.hike_the_pay at 0x00000211DC494040>, '__dict__': <attribute '__dict__' of 'Employee' objects>, '__weakref__': <attribute '__weakref__' of 'Employee' objects>, '__doc__': None}\n",
      "{'first': 'Melwin', 'last': 'Varghese', 'pay': 990000.0000000001}\n",
      "{'first': 'Alwin', 'last': 'Varghese', 'pay': 1100000.0}\n",
      "{'__module__': '__main__', 'hike_percent': 0.2, '__init__': <function Employee.__init__ at 0x00000211DC452C10>, 'fullname': <function Employee.fullname at 0x00000211DC452F70>, 'hike_the_pay': <function Employee.hike_the_pay at 0x00000211DC494040>, '__dict__': <attribute '__dict__' of 'Employee' objects>, '__weakref__': <attribute '__weakref__' of 'Employee' objects>, '__doc__': None}\n",
      "{'first': 'Melwin', 'last': 'Varghese', 'pay': 1188000.0}\n",
      "{'first': 'Alwin', 'last': 'Varghese', 'pay': 1320000.0}\n"
     ]
    }
   ],
   "source": [
    "class Employee:\n",
    "    hike_percent = .10\n",
    "    def __init__(self, first, last, pay):\n",
    "        self.first = first\n",
    "        self.last  = last\n",
    "        self.pay   = pay\n",
    "    def fullname(self):\n",
    "        return '{} {}'.format(self.first, self.last)\n",
    "    def hike_the_pay(self):\n",
    "        self.pay = self.pay*(1+self.hike_percent)\n",
    "emp_1 = Employee('Melwin', 'Varghese', 900000)\n",
    "emp_2 = Employee('Alwin', 'Varghese', 1000000)\n",
    "emp_1.hike_the_pay()\n",
    "emp_2.hike_the_pay()\n",
    "print(Employee.__dict__)\n",
    "print(emp_1.__dict__)\n",
    "print(emp_2.__dict__)\n",
    "Employee.hike_percent = .20 #Directly formt the Class name\n",
    "emp_1.hike_the_pay()\n",
    "emp_2.hike_the_pay()\n",
    "print(Employee.__dict__)\n",
    "print(emp_1.__dict__)\n",
    "print(emp_2.__dict__)"
   ]
  },
  {
   "cell_type": "markdown",
   "metadata": {},
   "source": [
    "#### 2) Accessing the the Class variables as instance variables"
   ]
  },
  {
   "cell_type": "code",
   "execution_count": 18,
   "metadata": {},
   "outputs": [
    {
     "name": "stdout",
     "output_type": "stream",
     "text": [
      "{'__module__': '__main__', 'hike_percent': 0.1, '__init__': <function Employee.__init__ at 0x0000026C2D235678>, 'fullname': <function Employee.fullname at 0x0000026C2D2354C8>, 'hike_the_pay': <function Employee.hike_the_pay at 0x0000026C2D235558>, '__dict__': <attribute '__dict__' of 'Employee' objects>, '__weakref__': <attribute '__weakref__' of 'Employee' objects>, '__doc__': None}\n",
      "{'first': 'Melwin', 'last': 'Varghese', 'pay': 1200000.0, 'hike_percent': 0.2}\n",
      "{'first': 'Alwin', 'last': 'Varghese', 'pay': 1100000.0}\n"
     ]
    }
   ],
   "source": [
    "class Employee:\n",
    "    hike_percent = .10\n",
    "    def __init__(self, first, last, pay):\n",
    "        self.first = first\n",
    "        self.last  = last\n",
    "        self.pay   = pay\n",
    "    def fullname(self):\n",
    "        return '{} {}'.format(self.first, self.last)\n",
    "    def hike_the_pay(self):\n",
    "        self.pay = self.pay*(1+self.hike_percent)\n",
    "emp_1 = Employee('Melwin', 'Varghese',1000000)\n",
    "emp_2 = Employee('Alwin', 'Varghese', 1000000)\n",
    "emp_1.hike_percent  = .20\n",
    "emp_1.hike_the_pay() # only for the emp_1 instance the hike percent will be 20% \n",
    "emp_2.hike_the_pay()\n",
    "print(Employee.__dict__)\n",
    "print(emp_1.__dict__)\n",
    "print(emp_2.__dict__)"
   ]
  },
  {
   "cell_type": "markdown",
   "metadata": {},
   "source": [
    "#### 3) we can use as a static variables "
   ]
  },
  {
   "cell_type": "code",
   "execution_count": 20,
   "metadata": {},
   "outputs": [
    {
     "name": "stdout",
     "output_type": "stream",
     "text": [
      "0\n",
      "2\n"
     ]
    }
   ],
   "source": [
    "class Employee:\n",
    "    hike_percent = .10\n",
    "    no_of_employees = 0\n",
    "    def __init__(self, first, last, pay):\n",
    "        self.first = first\n",
    "        self.last  = last\n",
    "        self.pay   = pay\n",
    "        Employee.no_of_employees += 1\n",
    "    def fullname(self):\n",
    "        return '{} {}'.format(self.first, self.last)\n",
    "    def hike_the_pay(self):\n",
    "        self.pay = self.pay*(1+self.hike_percent)\n",
    "print(Employee.no_of_employees)        \n",
    "emp_1 = Employee('Melwin', 'Varghese',900000)\n",
    "emp_2 = Employee('Alwin', 'Varghese', 1000000)\n",
    "print(Employee.no_of_employees) "
   ]
  },
  {
   "cell_type": "code",
   "execution_count": null,
   "metadata": {},
   "outputs": [],
   "source": []
  }
 ],
 "metadata": {
  "kernelspec": {
   "display_name": "Python 3",
   "language": "python",
   "name": "python3"
  },
  "language_info": {
   "codemirror_mode": {
    "name": "ipython",
    "version": 3
   },
   "file_extension": ".py",
   "mimetype": "text/x-python",
   "name": "python",
   "nbconvert_exporter": "python",
   "pygments_lexer": "ipython3",
   "version": "3.8.3"
  }
 },
 "nbformat": 4,
 "nbformat_minor": 2
}
