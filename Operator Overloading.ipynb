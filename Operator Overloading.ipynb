{
 "cells": [
  {
   "cell_type": "markdown",
   "metadata": {},
   "source": [
    "# Operator Overloading"
   ]
  },
  {
   "cell_type": "markdown",
   "metadata": {},
   "source": [
    "You can change the meaning of an operator in Python depending upon the operands used."
   ]
  },
  {
   "cell_type": "markdown",
   "metadata": {},
   "source": [
    "Python operators work for built-in classes. But the same operator behaves differently with different types. For example, the + operator will perform arithmetic addition on two numbers, merge two lists, or concatenate two strings.\n",
    "\n",
    "This feature in Python that allows the same operator to have different meaning according to the context is called operator overloading.\n",
    "\n",
    "So what happens when we use them with objects of a user-defined class? Let us consider the following class, which tries to simulate a point in 2-D coordinate system."
   ]
  },
  {
   "cell_type": "markdown",
   "metadata": {},
   "source": [
    "## Overloading the + Operator"
   ]
  },
  {
   "cell_type": "markdown",
   "metadata": {},
   "source": [
    "To overload the + operator, we will need to implement __add__() function in the class. With great power comes great responsibility. We can do whatever we like, inside this function. But it is more sensible to return a Point object of the coordinate sum."
   ]
  },
  {
   "cell_type": "code",
   "execution_count": 4,
   "metadata": {},
   "outputs": [
    {
     "name": "stdout",
     "output_type": "stream",
     "text": [
      "p1= (1,2)\n",
      "p2= (2,3)\n",
      "p1+ p2 = (3,5)\n"
     ]
    }
   ],
   "source": [
    "class Point:\n",
    "    def __init__(self, x=0, y=0):\n",
    "        self.x = x\n",
    "        self.y = y\n",
    "\n",
    "    def __str__(self):\n",
    "        return \"({0},{1})\".format(self.x, self.y)\n",
    "\n",
    "    def __add__(self, other):\n",
    "        x = self.x + other.x\n",
    "        y = self.y + other.y\n",
    "        return Point(x, y)\n",
    "    \n",
    "p1 = Point(1, 2)\n",
    "p2 = Point(2, 3)\n",
    "print(\"p1=\", p1)\n",
    "print(\"p2=\", p2)\n",
    "print(\"p1+ p2 =\",p1+p2)    "
   ]
  },
  {
   "cell_type": "markdown",
   "metadata": {},
   "source": [
    "## Other Operational Operators"
   ]
  },
  {
   "cell_type": "markdown",
   "metadata": {},
   "source": [
    "<table>\n",
    "<tr>    \n",
    "    <th>Operator</th>\t        \n",
    "    <th>Expression</th>\t       \n",
    "    <th>Internally</th>\n",
    "</tr>    \n",
    "<tr>    \n",
    "<td>Addition</td>\t        \n",
    "<td>p1 + p2</td>\n",
    "<td>p1.__add__(p2)</td>\n",
    "</tr>\n",
    "<tr>\n",
    "    <td>Subtraction</td>\n",
    "    <td>p1 - p2</td>\n",
    "    <td>p1.__sub__(p2)</td>\n",
    "</tr>\n",
    "<tr>\n",
    "    <td>Multiplication</td>\n",
    "    <td>p1 * p2</td>\n",
    "    <td>p1.__mul__(p2)</td>\n",
    "</tr>\n",
    "<tr>\n",
    "    <td>Power</td>\n",
    "    <td>p1 ** p2</td>\n",
    "    <td>p1.__pow__(p2)</td>\n",
    "</tr>\n",
    "<tr>\n",
    "    <td>Division</td>\n",
    "    <td>p1 / p2</td>\n",
    "    <td>p1.__truediv__(p2)</td>\n",
    "</tr>\n",
    "<tr>\n",
    "    <td>Floor Division</td>\n",
    "    <td>p1 // p2</td>\n",
    "    <td>p1.__floordiv__(p2)</td>\n",
    "</tr> \n",
    "<tr>\n",
    "    <td>Remainder (modulo)</td>\n",
    "    <td>p1 % p2</td>\n",
    "    <td>p1.__mod__(p2)</td>\n",
    "</tr>\n",
    "<tr>\n",
    "    <td>Bitwise Left Shift</td>\n",
    "    <td>p1 << p2</td>\n",
    "    <td> p1.__lshift__(p2)</td>\n",
    "</tr>\n",
    "<tr>\n",
    "    <td>Bitwise Right Shift</td>\n",
    "    <td>p1 >> p2</td>\n",
    "    <td>p1.__rshift__(p2)</td>\n",
    "</tr>\n",
    "<tr>\n",
    "    <td>Bitwise AND</td>\n",
    "    <td>p1 & p2</td>\n",
    "    <td>p1.__and__(p2)</td>\n",
    "</tr>\n",
    "<tr>\n",
    "    <td>Bitwise OR</td>\n",
    "    <td>p1 | p2</td>\n",
    "    <td>p1.__or__(p2)</td>\n",
    "</tr>\n",
    "<tr>\n",
    "    <td>Bitwise XOR</td>\n",
    "    <td>p1 ^ p2</td>\n",
    "    <td>p1.__xor__(p2)</td>\n",
    "</tr>\n",
    "<tr>\n",
    "    <td>Bitwise NOT</td>\n",
    "    <td>~p1</td>\n",
    "    <td>p1.__invert__()</td>\n",
    "</tr>  \n",
    "</table>    "
   ]
  },
  {
   "cell_type": "markdown",
   "metadata": {},
   "source": [
    "## Overloading Comparison Operators"
   ]
  },
  {
   "cell_type": "code",
   "execution_count": 6,
   "metadata": {},
   "outputs": [
    {
     "name": "stdout",
     "output_type": "stream",
     "text": [
      "True\n",
      "False\n",
      "False\n"
     ]
    }
   ],
   "source": [
    "# overloading the less than operator\n",
    "class Point:\n",
    "    def __init__(self, x=0, y=0):\n",
    "        self.x = x\n",
    "        self.y = y\n",
    "\n",
    "    def __str__(self):\n",
    "        return \"({0},{1})\".format(self.x, self.y)\n",
    "\n",
    "    def __lt__(self, other):\n",
    "        self_mag = (self.x ** 2) + (self.y ** 2)\n",
    "        other_mag = (other.x ** 2) + (other.y ** 2)\n",
    "        return self_mag < other_mag\n",
    "\n",
    "p1 = Point(1,1)\n",
    "p2 = Point(-2,-3)\n",
    "p3 = Point(1,-1)\n",
    "\n",
    "# use less than\n",
    "print(p1<p2)\n",
    "print(p2<p3)\n",
    "print(p1<p3)"
   ]
  },
  {
   "cell_type": "markdown",
   "metadata": {},
   "source": [
    "<table>\n",
    "    <tr>\n",
    "        <th>Operator</th>\n",
    "        <th>Expression</th>\n",
    "        <th>Internally</th>\n",
    "    </tr> \n",
    "    <tr>\n",
    "        <td>Less than</td>\n",
    "        <td>p1 < p2</td>\n",
    "        <td>p1.__lt__(p2)</td>\n",
    "    </tr>\n",
    "    <tr>\n",
    "        <td>Less than or equal to</td>\n",
    "        <td>p1 <= p2</td>\n",
    "        <td>p1.__le__(p2)</td>\n",
    "    </tr>\n",
    "    <tr>\n",
    "        <td>Equal to</td>\n",
    "        <td>p1 == p2</td>\n",
    "        <td>p1.__eq__(p2)</td>\n",
    "    </tr>\n",
    "    <tr>\n",
    "        <td>Not equal to</td>\n",
    "        <td>p1 != p2</td>\n",
    "        <td>p1.__ne__(p2)</td>\n",
    "    </tr>  \n",
    "    <tr>\n",
    "        <td>Greater than</td>\n",
    "        <td>p1 > p2</td>\n",
    "        <td>p1.__gt__(p2)</td>\n",
    "    </tr>\n",
    "    <tr>\n",
    "        <td>Greater than or equal to</td>\n",
    "        <td>p1 >= p2</td>\n",
    "        <td>p1.__ge__(p2)</td>\n",
    "    </tr>    \n",
    "</table>    "
   ]
  },
  {
   "cell_type": "code",
   "execution_count": null,
   "metadata": {},
   "outputs": [],
   "source": []
  }
 ],
 "metadata": {
  "kernelspec": {
   "display_name": "Python 3",
   "language": "python",
   "name": "python3"
  },
  "language_info": {
   "codemirror_mode": {
    "name": "ipython",
    "version": 3
   },
   "file_extension": ".py",
   "mimetype": "text/x-python",
   "name": "python",
   "nbconvert_exporter": "python",
   "pygments_lexer": "ipython3",
   "version": "3.8.3"
  }
 },
 "nbformat": 4,
 "nbformat_minor": 4
}
