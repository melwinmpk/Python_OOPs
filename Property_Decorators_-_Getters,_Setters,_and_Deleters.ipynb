{
 "cells": [
  {
   "cell_type": "markdown",
   "metadata": {},
   "source": [
    "# Property Decorators - Getters, Setters, and Deleters"
   ]
  },
  {
   "cell_type": "markdown",
   "metadata": {},
   "source": [
    "# Getters"
   ]
  },
  {
   "cell_type": "markdown",
   "metadata": {},
   "source": [
    "For the getters its pretty simple we need to add the decorator @property to the method so that we can call the method as a variable"
   ]
  },
  {
   "cell_type": "code",
   "execution_count": 2,
   "metadata": {},
   "outputs": [
    {
     "name": "stdout",
     "output_type": "stream",
     "text": [
      "Melwin.Varghese@gmail.com\n"
     ]
    }
   ],
   "source": [
    "class Employee:\n",
    "    hike_percent = .10\n",
    "    no_of_employees = 0\n",
    "    def __init__(self, first, last, pay):\n",
    "        self.first = first\n",
    "        self.last  = last\n",
    "        self.pay   = pay\n",
    "        Employee.no_of_employees += 1     \n",
    "    def fullname(self):\n",
    "        return '{} {}'.format(self.first, self.last)\n",
    "    def hike_the_pay(self):\n",
    "        self.pay = self.pay*(1+self.hike_percent)\n",
    "    @property\n",
    "    def email(self):\n",
    "        return '{first}.{last}@gmail.com'.format(first=self.first,last=self.last)\n",
    "emp_1 = Employee('Melwin','Varghese','900000')  \n",
    "print(emp_1.email)\n"
   ]
  },
  {
   "cell_type": "markdown",
   "metadata": {},
   "source": [
    "## Setters"
   ]
  },
  {
   "cell_type": "markdown",
   "metadata": {},
   "source": [
    "For the getters its pretty simple we need to add the decorator @{attributename}.setter to the method so that we can call the method as a variable"
   ]
  },
  {
   "cell_type": "code",
   "execution_count": 5,
   "metadata": {},
   "outputs": [
    {
     "name": "stdout",
     "output_type": "stream",
     "text": [
      "Melwin.Varghese@gmail.com\n",
      "Alwin Varghese\n",
      "Alwin.Varghese@gmail.com\n"
     ]
    }
   ],
   "source": [
    "class Employee:\n",
    "    hike_percent = .10\n",
    "    no_of_employees = 0\n",
    "    def __init__(self, first, last, pay):\n",
    "        self.first = first\n",
    "        self.last  = last\n",
    "        self.pay   = pay\n",
    "        Employee.no_of_employees += 1     \n",
    "    @property\n",
    "    def fullname(self):\n",
    "        return '{} {}'.format(self.first, self.last)\n",
    "    def hike_the_pay(self):\n",
    "        self.pay = self.pay*(1+self.hike_percent)\n",
    "    @property\n",
    "    def email(self):\n",
    "        return '{first}.{last}@gmail.com'.format(first=self.first,last=self.last)\n",
    "    @fullname.setter\n",
    "    def fullname(self,name):\n",
    "        self.first, self.last = name.split(' ')\n",
    "emp_1 = Employee('Melwin','Varghese','900000')  \n",
    "print(emp_1.email)\n",
    "emp_1.fullname = \"Alwin Varghese\"\n",
    "print(emp_1.fullname)\n",
    "print(emp_1.email)\n"
   ]
  },
  {
   "cell_type": "markdown",
   "metadata": {},
   "source": [
    "## Deleters"
   ]
  },
  {
   "cell_type": "markdown",
   "metadata": {},
   "source": [
    "For the getters its pretty simple we need to add the decorator @{attributename}.deleter to the method so that we can call the method as a variable"
   ]
  },
  {
   "cell_type": "code",
   "execution_count": 9,
   "metadata": {},
   "outputs": [
    {
     "name": "stdout",
     "output_type": "stream",
     "text": [
      "Melwin.Varghese@gmail.com\n",
      "Alwin Varghese\n",
      "Alwin.Varghese@gmail.com\n",
      "1\n",
      "0\n"
     ]
    }
   ],
   "source": [
    "class Employee:\n",
    "    hike_percent = .10\n",
    "    no_of_employees = 0\n",
    "    def __init__(self, first, last, pay):\n",
    "        self.first = first\n",
    "        self.last  = last\n",
    "        self.pay   = pay\n",
    "        Employee.no_of_employees += 1     \n",
    "    @property\n",
    "    def fullname(self):\n",
    "        return '{} {}'.format(self.first, self.last)\n",
    "    def hike_the_pay(self):\n",
    "        self.pay = self.pay*(1+self.hike_percent)\n",
    "    @property\n",
    "    def email(self):\n",
    "        return '{first}.{last}@gmail.com'.format(first=self.first,last=self.last)\n",
    "    @fullname.setter\n",
    "    def fullname(self,name):\n",
    "        self.first, self.last = name.split(' ')\n",
    "    @fullname.deleter\n",
    "    def fullname(self):\n",
    "        self.first = None\n",
    "        self.last = None\n",
    "        self.pay = None\n",
    "        Employee.no_of_employees -= 1\n",
    "        \n",
    "emp_1 = Employee('Melwin','Varghese','900000')  \n",
    "print(emp_1.email)\n",
    "emp_1.fullname = \"Alwin Varghese\"\n",
    "print(emp_1.fullname)\n",
    "print(emp_1.email)\n",
    "print(Employee.no_of_employees)\n",
    "del emp_1.fullname\n",
    "print(Employee.no_of_employees)\n",
    "\n",
    "\n"
   ]
  },
  {
   "cell_type": "code",
   "execution_count": null,
   "metadata": {},
   "outputs": [],
   "source": []
  }
 ],
 "metadata": {
  "kernelspec": {
   "display_name": "Python 3",
   "language": "python",
   "name": "python3"
  },
  "language_info": {
   "codemirror_mode": {
    "name": "ipython",
    "version": 3
   },
   "file_extension": ".py",
   "mimetype": "text/x-python",
   "name": "python",
   "nbconvert_exporter": "python",
   "pygments_lexer": "ipython3",
   "version": "3.8.3"
  }
 },
 "nbformat": 4,
 "nbformat_minor": 2
}
